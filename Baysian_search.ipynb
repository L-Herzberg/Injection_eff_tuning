{
 "cells": [
  {
   "cell_type": "code",
   "execution_count": null,
   "id": "1b20f13d",
   "metadata": {},
   "outputs": [],
   "source": [
    "import pandas as pd\n",
    "import numpy as np\n",
    "import tensorflow as tf\n",
    "\n",
    "from bg_net import client\n",
    "from bg_net.utils import get_most_recent\n",
    "from bg_net.injection_efficiency.config import config\n",
    "from bg_net.injection_efficiency import data_utils\n",
    "from bg_net.archiver.indexer_utils import str_to_jst_datetime"
   ]
  },
  {
   "cell_type": "code",
   "execution_count": null,
   "id": "75beab7d",
   "metadata": {},
   "outputs": [],
   "source": [
    "OBS_HER = \"TM_EVR0_HER_INJ_EFF_BCM\"\n",
    "OBS_LER = \"TM_EVR0_LER_INJ_EFF_BCM\"\n",
    "target_key = OBS_LER\n",
    "# Set path to trained injection efficiency model\n",
    "path_to_model = \"/home/lukas/bg_net/examples/serving_model/\" + target_key\n",
    "# Get names of model inputs\n",
    "input_features = data_utils.get_input_feature_names(target_key)"
   ]
  },
  {
   "cell_type": "code",
   "execution_count": null,
   "id": "34a21ae3",
   "metadata": {},
   "outputs": [],
   "source": [
    "model = tf.saved_model.load(get_most_recent(path_to_model))"
   ]
  },
  {
   "cell_type": "code",
   "execution_count": null,
   "id": "c89fe9b5",
   "metadata": {},
   "outputs": [],
   "source": [
    "# The constraint for the baysian optimization search space in the format [{PV}, {middle}, {range around middle}]\n",
    "optimization_space = np.array([\n",
    "    [\"CGLINJ_SEPTUM_ANG_R\", 4.13, 6e-02],\n",
    "    [\"CGLINJ_SEPTUM_POS_R\", 34, 6e-02],\n",
    "    [\"CGLINJ_INJECTION_YPOS\", -0.00023, 1e-05],\n",
    "    [\"CGLINJ_INJECTION_YANG\", -0.000231, 1e-05],\n",
    "])\n",
    "bunch_current = 0.610932"
   ]
  },
  {
   "cell_type": "code",
   "execution_count": null,
   "id": "4c0c2a40",
   "metadata": {},
   "outputs": [],
   "source": [
    "# To use the model for inference we need to first define a point in the state space\n",
    "state = [4.13, 34, -0.00023, -0.000231]\n",
    "# This point is converted to a pandas dataframe with named columns and the bunch current is appended\n",
    "df = pd.DataFrame(data=[np.append(state, bunch_current)],\n",
    "              columns=np.append(optimization_space[:,0], 'LER_BUNCH_CURRENT'))"
   ]
  },
  {
   "cell_type": "code",
   "execution_count": null,
   "id": "e91f9fe3",
   "metadata": {},
   "outputs": [],
   "source": [
    "# We can now do a prediction of the injection efficiency on our new point\n",
    "serialized_example_batch = client.get_serialized_examples_from_df(df, target_key, input_features)\n",
    "infer = model.signatures[\"serving_default\"]\n",
    "y_pred = infer(serialized_example_batch)['output_0'].numpy().squeeze()"
   ]
  },
  {
   "cell_type": "code",
   "execution_count": null,
   "id": "5deebe81",
   "metadata": {},
   "outputs": [],
   "source": []
  }
 ],
 "metadata": {
  "kernelspec": {
   "display_name": "Python 3 (ipykernel)",
   "language": "python",
   "name": "python3"
  },
  "language_info": {
   "codemirror_mode": {
    "name": "ipython",
    "version": 3
   },
   "file_extension": ".py",
   "mimetype": "text/x-python",
   "name": "python",
   "nbconvert_exporter": "python",
   "pygments_lexer": "ipython3",
   "version": "3.9.16"
  }
 },
 "nbformat": 4,
 "nbformat_minor": 5
}
