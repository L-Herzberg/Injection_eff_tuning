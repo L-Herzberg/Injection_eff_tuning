{
 "cells": [
  {
   "cell_type": "code",
   "execution_count": null,
   "id": "1b20f13d",
   "metadata": {},
   "outputs": [],
   "source": [
    "from bg_net.utils import get_most_recent\n",
    "from bg_net.injection_efficiency.config import config\n",
    "from bg_net.archiver.indexer_utils import str_to_jst_datetime"
   ]
  },
  {
   "cell_type": "code",
   "execution_count": null,
   "id": "75beab7d",
   "metadata": {},
   "outputs": [],
   "source": [
    "OBS_HER = \"TM_EVR0_HER_INJ_EFF_BCM\"\n",
    "OBS_LER = \"TM_EVR0_LER_INJ_EFF_BCM\"\n",
    "target_key = OBS_LER\n",
    "# Set path to data, adjust to your system\n",
    "path_to_data = \"/home/lukas/archiver_data\"\n",
    "# Set path to trained injection efficiency model\n",
    "path_to_model = \"/home/lukas/bg_net/examples/serving_model/\" + target_key\n",
    "# Select time intervall used for trainig \n",
    "start = str_to_jst_datetime(\"2022-06-01 00:00:00\")\n",
    "end = str_to_jst_datetime(\"2022-06-23 23:59:59\")"
   ]
  },
  {
   "cell_type": "code",
   "execution_count": null,
   "id": "34a21ae3",
   "metadata": {},
   "outputs": [],
   "source": [
    "model = get_most_recent(path_to_model)"
   ]
  },
  {
   "cell_type": "code",
   "execution_count": null,
   "id": "c89fe9b5",
   "metadata": {},
   "outputs": [],
   "source": [
    "# The constraint for the baysian optimization search space in the format [{PV}, {middle}, {range around middle}]\n",
    "optimization_space = [\n",
    "    [\"CGLINJ_SEPTUM_ANG_R\", 4.107075, 6e-02],\n",
    "    [\"CGLINJ_SEPTUM_POS_R\", 33.995190, 6e-02],\n",
    "    [\"CGLINJ_KICKER_1_ANGLE\", 1.777718, 1e-06],\n",
    "    [\"CGLINJ_KICKER_2_ANGLE\", 1.551764, 1e-06],\n",
    "]"
   ]
  },
  {
   "cell_type": "code",
   "execution_count": null,
   "id": "e91f9fe3",
   "metadata": {},
   "outputs": [],
   "source": []
  }
 ],
 "metadata": {
  "kernelspec": {
   "display_name": "Python 3 (ipykernel)",
   "language": "python",
   "name": "python3"
  },
  "language_info": {
   "codemirror_mode": {
    "name": "ipython",
    "version": 3
   },
   "file_extension": ".py",
   "mimetype": "text/x-python",
   "name": "python",
   "nbconvert_exporter": "python",
   "pygments_lexer": "ipython3",
   "version": "3.9.16"
  }
 },
 "nbformat": 4,
 "nbformat_minor": 5
}
